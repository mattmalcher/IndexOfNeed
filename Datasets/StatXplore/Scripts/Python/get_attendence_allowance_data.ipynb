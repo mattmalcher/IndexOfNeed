{
 "cells": [
  {
   "cell_type": "markdown",
   "metadata": {},
   "source": [
    "# Get Attendance Allowance Data"
   ]
  },
  {
   "cell_type": "markdown",
   "metadata": {},
   "source": [
    "A script to identify the IDs of Attendence Allowance datasets and used these to download Attendance Allowance data from the Stat-Xplore API.\n",
    "\n",
    "This should serve as an example of how to get additional Stat-Xplore datasets in the future."
   ]
  },
  {
   "cell_type": "markdown",
   "metadata": {},
   "source": [
    "## Import required libraries"
   ]
  },
  {
   "cell_type": "code",
   "execution_count": 34,
   "metadata": {
    "collapsed": true
   },
   "outputs": [],
   "source": [
    "# Add the stat_xplore_scraper directory to the system path so that stat_xplore_scraper libraries can be imported\n",
    "import sys\n",
    "sys.path.append('.\\stat_xplore_scraper')\n",
    "\n",
    "# Import stat_xplore_scraper libraries\n",
    "import stat_xplore_table\n",
    "import stat_xplore_schema\n",
    "\n",
    "import pandas as pd"
   ]
  },
  {
   "cell_type": "code",
   "execution_count": 35,
   "metadata": {
    "collapsed": true
   },
   "outputs": [],
   "source": [
    "# Initialise the API key. This is used when sending requests to the Stat-Xplore API\n",
    "APIKey = '65794a30655841694f694a4b563151694c434a68624763694f694a49557a49314e694a392e65794a7063334d694f694a7a644849756333526c6247786863694973496e4e3159694936496d39696153357a59584a6e623235705147396a63326b7559323875645773694c434a70595851694f6a45314d5451354f5467304e7a5173496d46315a434936496e4e30636935765a47456966512e5f65352d586f344a7356466d4945546d657a42587339386d7a793738456c6e4e7061643948706e6270646f'\n",
    "\n",
    "# Initialise the headers that are used when sending requests to the Stat-Xplore API\n",
    "table_headers = {'APIKey':APIKey,\n",
    "                'Content-Type':'applciation/json'}\n",
    "schema_headers = {'APIKey':APIKey}\n",
    "\n",
    "# Set the output directory to save data to\n",
    "output_directory = '..\\..\\Data\\\\'"
   ]
  },
  {
   "cell_type": "markdown",
   "metadata": {},
   "source": [
    " ## Get the Stat-Xplore schema and identify the required IDs for Attendance Allowance data"
   ]
  },
  {
   "cell_type": "code",
   "execution_count": 36,
   "metadata": {
    "collapsed": true
   },
   "outputs": [],
   "source": [
    "# Get the Stat-Xplore schema. This is used to find the codes of fields and values when getting data\n",
    "df_schema = stat_xplore_schema.get_full_schema(schema_headers, check_cache = True, schema_filename = '.\\stat_xplore_scraper\\schema.csv')"
   ]
  },
  {
   "cell_type": "code",
   "execution_count": 37,
   "metadata": {
    "collapsed": false
   },
   "outputs": [
    {
     "data": {
      "text/html": [
       "<div>\n",
       "<table border=\"1\" class=\"dataframe\">\n",
       "  <thead>\n",
       "    <tr style=\"text-align: right;\">\n",
       "      <th></th>\n",
       "      <th>id</th>\n",
       "      <th>label</th>\n",
       "      <th>location</th>\n",
       "      <th>parent_id</th>\n",
       "      <th>type</th>\n",
       "    </tr>\n",
       "  </thead>\n",
       "  <tbody>\n",
       "    <tr>\n",
       "      <th>1</th>\n",
       "      <td>str:folder:faa</td>\n",
       "      <td>Attendance Allowance</td>\n",
       "      <td>http://stat-xplore.dwp.gov.uk/webapi/rest/v1/s...</td>\n",
       "      <td>str:folder:root</td>\n",
       "      <td>FOLDER</td>\n",
       "    </tr>\n",
       "  </tbody>\n",
       "</table>\n",
       "</div>"
      ],
      "text/plain": [
       "               id                 label  \\\n",
       "1  str:folder:faa  Attendance Allowance   \n",
       "\n",
       "                                            location        parent_id    type  \n",
       "1  http://stat-xplore.dwp.gov.uk/webapi/rest/v1/s...  str:folder:root  FOLDER  "
      ]
     },
     "execution_count": 37,
     "metadata": {},
     "output_type": "execute_result"
    }
   ],
   "source": [
    "df_schema.loc[ df_schema['label'] == 'Attendance Allowance']"
   ]
  },
  {
   "cell_type": "code",
   "execution_count": 38,
   "metadata": {
    "collapsed": false
   },
   "outputs": [
    {
     "data": {
      "text/html": [
       "<div>\n",
       "<table border=\"1\" class=\"dataframe\">\n",
       "  <thead>\n",
       "    <tr style=\"text-align: right;\">\n",
       "      <th></th>\n",
       "      <th>id</th>\n",
       "      <th>label</th>\n",
       "      <th>location</th>\n",
       "      <th>parent_id</th>\n",
       "      <th>type</th>\n",
       "    </tr>\n",
       "  </thead>\n",
       "  <tbody>\n",
       "    <tr>\n",
       "      <th>17</th>\n",
       "      <td>str:database:AA_In_Payment</td>\n",
       "      <td>AA Cases In Payment</td>\n",
       "      <td>http://stat-xplore.dwp.gov.uk/webapi/rest/v1/s...</td>\n",
       "      <td>str:folder:faa</td>\n",
       "      <td>DATABASE</td>\n",
       "    </tr>\n",
       "    <tr>\n",
       "      <th>18</th>\n",
       "      <td>str:database:AA_Entitled</td>\n",
       "      <td>AA Entitled</td>\n",
       "      <td>http://stat-xplore.dwp.gov.uk/webapi/rest/v1/s...</td>\n",
       "      <td>str:folder:faa</td>\n",
       "      <td>DATABASE</td>\n",
       "    </tr>\n",
       "  </tbody>\n",
       "</table>\n",
       "</div>"
      ],
      "text/plain": [
       "                            id                label  \\\n",
       "17  str:database:AA_In_Payment  AA Cases In Payment   \n",
       "18    str:database:AA_Entitled          AA Entitled   \n",
       "\n",
       "                                             location       parent_id  \\\n",
       "17  http://stat-xplore.dwp.gov.uk/webapi/rest/v1/s...  str:folder:faa   \n",
       "18  http://stat-xplore.dwp.gov.uk/webapi/rest/v1/s...  str:folder:faa   \n",
       "\n",
       "        type  \n",
       "17  DATABASE  \n",
       "18  DATABASE  "
      ]
     },
     "execution_count": 38,
     "metadata": {},
     "output_type": "execute_result"
    }
   ],
   "source": [
    "# Attendance Allowance ID is 'str:folder:faa'. Find what is avalable in this folder\n",
    "df_schema.loc[ df_schema['parent_id'] == 'str:folder:faa']"
   ]
  },
  {
   "cell_type": "code",
   "execution_count": 39,
   "metadata": {
    "collapsed": true
   },
   "outputs": [],
   "source": [
    "# Get the data for AA Entitled.\n",
    "# This shows both the number of people in receipt of an allowance and those with entitlement where the payment has been suspended, for example if they are in hospital.\n",
    "database_id = 'str:database:AA_Entitled'"
   ]
  },
  {
   "cell_type": "code",
   "execution_count": 40,
   "metadata": {
    "collapsed": false,
    "scrolled": true
   },
   "outputs": [
    {
     "data": {
      "text/html": [
       "<div>\n",
       "<table border=\"1\" class=\"dataframe\">\n",
       "  <thead>\n",
       "    <tr style=\"text-align: right;\">\n",
       "      <th></th>\n",
       "      <th>id</th>\n",
       "      <th>label</th>\n",
       "      <th>location</th>\n",
       "      <th>parent_id</th>\n",
       "      <th>type</th>\n",
       "    </tr>\n",
       "  </thead>\n",
       "  <tbody>\n",
       "    <tr>\n",
       "      <th>68</th>\n",
       "      <td>str:count:AA_Entitled:V_F_AA_Entitled</td>\n",
       "      <td>AA (entitled)</td>\n",
       "      <td>http://stat-xplore.dwp.gov.uk/webapi/rest/v1/s...</td>\n",
       "      <td>str:database:AA_Entitled</td>\n",
       "      <td>COUNT</td>\n",
       "    </tr>\n",
       "    <tr>\n",
       "      <th>69</th>\n",
       "      <td>str:field:AA_Entitled:F_AA_QTR:DATE_NAME</td>\n",
       "      <td>Quarter</td>\n",
       "      <td>http://stat-xplore.dwp.gov.uk/webapi/rest/v1/s...</td>\n",
       "      <td>str:database:AA_Entitled</td>\n",
       "      <td>FIELD</td>\n",
       "    </tr>\n",
       "    <tr>\n",
       "      <th>70</th>\n",
       "      <td>str:folder:AA_Entitled:Geography+%28residence-...</td>\n",
       "      <td>Geography (residence-based)</td>\n",
       "      <td>http://stat-xplore.dwp.gov.uk/webapi/rest/v1/s...</td>\n",
       "      <td>str:database:AA_Entitled</td>\n",
       "      <td>FOLDER</td>\n",
       "    </tr>\n",
       "    <tr>\n",
       "      <th>71</th>\n",
       "      <td>str:field:AA_Entitled:V_F_AA_Entitled:AAAWD</td>\n",
       "      <td>AA Award Type</td>\n",
       "      <td>http://stat-xplore.dwp.gov.uk/webapi/rest/v1/s...</td>\n",
       "      <td>str:database:AA_Entitled</td>\n",
       "      <td>FIELD</td>\n",
       "    </tr>\n",
       "    <tr>\n",
       "      <th>72</th>\n",
       "      <td>str:field:AA_Entitled:V_F_AA_Entitled:CNAGE</td>\n",
       "      <td>Age (bands and single year)</td>\n",
       "      <td>http://stat-xplore.dwp.gov.uk/webapi/rest/v1/s...</td>\n",
       "      <td>str:database:AA_Entitled</td>\n",
       "      <td>FIELD</td>\n",
       "    </tr>\n",
       "    <tr>\n",
       "      <th>73</th>\n",
       "      <td>str:field:AA_Entitled:V_F_AA_Entitled:CTDURTN</td>\n",
       "      <td>Duration of Current Claim</td>\n",
       "      <td>http://stat-xplore.dwp.gov.uk/webapi/rest/v1/s...</td>\n",
       "      <td>str:database:AA_Entitled</td>\n",
       "      <td>FIELD</td>\n",
       "    </tr>\n",
       "    <tr>\n",
       "      <th>74</th>\n",
       "      <td>str:field:AA_Entitled:V_F_AA_Entitled:CCSEX</td>\n",
       "      <td>Gender</td>\n",
       "      <td>http://stat-xplore.dwp.gov.uk/webapi/rest/v1/s...</td>\n",
       "      <td>str:database:AA_Entitled</td>\n",
       "      <td>FIELD</td>\n",
       "    </tr>\n",
       "    <tr>\n",
       "      <th>75</th>\n",
       "      <td>str:field:AA_Entitled:V_F_AA_Entitled:DISABLED</td>\n",
       "      <td>Main Disabling Condition</td>\n",
       "      <td>http://stat-xplore.dwp.gov.uk/webapi/rest/v1/s...</td>\n",
       "      <td>str:database:AA_Entitled</td>\n",
       "      <td>FIELD</td>\n",
       "    </tr>\n",
       "  </tbody>\n",
       "</table>\n",
       "</div>"
      ],
      "text/plain": [
       "                                                   id  \\\n",
       "68              str:count:AA_Entitled:V_F_AA_Entitled   \n",
       "69           str:field:AA_Entitled:F_AA_QTR:DATE_NAME   \n",
       "70  str:folder:AA_Entitled:Geography+%28residence-...   \n",
       "71        str:field:AA_Entitled:V_F_AA_Entitled:AAAWD   \n",
       "72        str:field:AA_Entitled:V_F_AA_Entitled:CNAGE   \n",
       "73      str:field:AA_Entitled:V_F_AA_Entitled:CTDURTN   \n",
       "74        str:field:AA_Entitled:V_F_AA_Entitled:CCSEX   \n",
       "75     str:field:AA_Entitled:V_F_AA_Entitled:DISABLED   \n",
       "\n",
       "                          label  \\\n",
       "68                AA (entitled)   \n",
       "69                      Quarter   \n",
       "70  Geography (residence-based)   \n",
       "71                AA Award Type   \n",
       "72  Age (bands and single year)   \n",
       "73    Duration of Current Claim   \n",
       "74                       Gender   \n",
       "75     Main Disabling Condition   \n",
       "\n",
       "                                             location  \\\n",
       "68  http://stat-xplore.dwp.gov.uk/webapi/rest/v1/s...   \n",
       "69  http://stat-xplore.dwp.gov.uk/webapi/rest/v1/s...   \n",
       "70  http://stat-xplore.dwp.gov.uk/webapi/rest/v1/s...   \n",
       "71  http://stat-xplore.dwp.gov.uk/webapi/rest/v1/s...   \n",
       "72  http://stat-xplore.dwp.gov.uk/webapi/rest/v1/s...   \n",
       "73  http://stat-xplore.dwp.gov.uk/webapi/rest/v1/s...   \n",
       "74  http://stat-xplore.dwp.gov.uk/webapi/rest/v1/s...   \n",
       "75  http://stat-xplore.dwp.gov.uk/webapi/rest/v1/s...   \n",
       "\n",
       "                   parent_id    type  \n",
       "68  str:database:AA_Entitled   COUNT  \n",
       "69  str:database:AA_Entitled   FIELD  \n",
       "70  str:database:AA_Entitled  FOLDER  \n",
       "71  str:database:AA_Entitled   FIELD  \n",
       "72  str:database:AA_Entitled   FIELD  \n",
       "73  str:database:AA_Entitled   FIELD  \n",
       "74  str:database:AA_Entitled   FIELD  \n",
       "75  str:database:AA_Entitled   FIELD  "
      ]
     },
     "execution_count": 40,
     "metadata": {},
     "output_type": "execute_result"
    }
   ],
   "source": [
    "# Find the measures and fileds available within this dataset\n",
    "df_schema.loc[ df_schema['parent_id'] == database_id]"
   ]
  },
  {
   "cell_type": "markdown",
   "metadata": {},
   "source": [
    "Now select the IDs of the measure to get data for and the field to break the data down by.\n",
    "Some important points:\n",
    "* The meaure id must be of type 'COUNT' or 'MEASURE' (these are the types of ordinal data field)\n",
    "* The stat_xplore_scraper currently only handles requests for data broken down by THREE fields so three fields must be requested\n",
    "* Since we are interested in geographic data, the geography field should be included\n",
    "* There is not currently a simple way to select just the latest timepoint. Therefore the date field should also be included to ensure values are broken down by date.\n",
    "\n",
    "These caveats eman that there is effictively one free choice of field to break data down by."
   ]
  },
  {
   "cell_type": "code",
   "execution_count": 41,
   "metadata": {
    "collapsed": false
   },
   "outputs": [],
   "source": [
    "# Select the measure id - the id of the measure to view get data for\n",
    "measure_id = 'str:count:AA_Entitled:V_F_AA_Entitled'"
   ]
  },
  {
   "cell_type": "code",
   "execution_count": 42,
   "metadata": {
    "collapsed": true
   },
   "outputs": [],
   "source": [
    "# set the data field ID\n",
    "date_field_id = 'str:field:AA_Entitled:F_AA_QTR:DATE_NAME'"
   ]
  },
  {
   "cell_type": "code",
   "execution_count": 43,
   "metadata": {
    "collapsed": true
   },
   "outputs": [],
   "source": [
    "# I also choose to get data broken down by 'Main Disabling Condition'\n",
    "condition_field_id = 'str:field:AA_Entitled:V_F_AA_Entitled:DISABLED'"
   ]
  },
  {
   "cell_type": "code",
   "execution_count": 44,
   "metadata": {
    "collapsed": false
   },
   "outputs": [
    {
     "data": {
      "text/html": [
       "<div>\n",
       "<table border=\"1\" class=\"dataframe\">\n",
       "  <thead>\n",
       "    <tr style=\"text-align: right;\">\n",
       "      <th></th>\n",
       "      <th>id</th>\n",
       "      <th>label</th>\n",
       "      <th>location</th>\n",
       "      <th>parent_id</th>\n",
       "      <th>type</th>\n",
       "    </tr>\n",
       "  </thead>\n",
       "  <tbody>\n",
       "    <tr>\n",
       "      <th>521</th>\n",
       "      <td>str:field:AA_Entitled:V_F_AA_Entitled:COA_CODE</td>\n",
       "      <td>National - Regional - LA - OAs</td>\n",
       "      <td>http://stat-xplore.dwp.gov.uk/webapi/rest/v1/s...</td>\n",
       "      <td>str:folder:AA_Entitled:Geography+%28residence-...</td>\n",
       "      <td>FIELD</td>\n",
       "    </tr>\n",
       "    <tr>\n",
       "      <th>522</th>\n",
       "      <td>str:field:AA_Entitled:V_F_AA_Entitled:PARLC_code</td>\n",
       "      <td>Westminster Parliamentary Constituencies</td>\n",
       "      <td>http://stat-xplore.dwp.gov.uk/webapi/rest/v1/s...</td>\n",
       "      <td>str:folder:AA_Entitled:Geography+%28residence-...</td>\n",
       "      <td>FIELD</td>\n",
       "    </tr>\n",
       "    <tr>\n",
       "      <th>523</th>\n",
       "      <td>str:field:AA_Entitled:V_F_AA_Entitled:SPARLC_code</td>\n",
       "      <td>Scottish Parliamentary Constituencies</td>\n",
       "      <td>http://stat-xplore.dwp.gov.uk/webapi/rest/v1/s...</td>\n",
       "      <td>str:folder:AA_Entitled:Geography+%28residence-...</td>\n",
       "      <td>FIELD</td>\n",
       "    </tr>\n",
       "  </tbody>\n",
       "</table>\n",
       "</div>"
      ],
      "text/plain": [
       "                                                    id  \\\n",
       "521     str:field:AA_Entitled:V_F_AA_Entitled:COA_CODE   \n",
       "522   str:field:AA_Entitled:V_F_AA_Entitled:PARLC_code   \n",
       "523  str:field:AA_Entitled:V_F_AA_Entitled:SPARLC_code   \n",
       "\n",
       "                                        label  \\\n",
       "521            National - Regional - LA - OAs   \n",
       "522  Westminster Parliamentary Constituencies   \n",
       "523     Scottish Parliamentary Constituencies   \n",
       "\n",
       "                                              location  \\\n",
       "521  http://stat-xplore.dwp.gov.uk/webapi/rest/v1/s...   \n",
       "522  http://stat-xplore.dwp.gov.uk/webapi/rest/v1/s...   \n",
       "523  http://stat-xplore.dwp.gov.uk/webapi/rest/v1/s...   \n",
       "\n",
       "                                             parent_id   type  \n",
       "521  str:folder:AA_Entitled:Geography+%28residence-...  FIELD  \n",
       "522  str:folder:AA_Entitled:Geography+%28residence-...  FIELD  \n",
       "523  str:folder:AA_Entitled:Geography+%28residence-...  FIELD  "
      ]
     },
     "execution_count": 44,
     "metadata": {},
     "output_type": "execute_result"
    }
   ],
   "source": [
    "# Select the geography field ID\n",
    "\n",
    "# First get the ID of the geography folder\n",
    "geog_folder_id = df_schema.loc[ (df_schema['parent_id'] == database_id) & (df_schema['label'] == 'Geography (residence-based)'), 'id'].values[0]\n",
    "\n",
    "df_schema.loc[ df_schema['parent_id'] == geog_folder_id]"
   ]
  },
  {
   "cell_type": "code",
   "execution_count": 45,
   "metadata": {
    "collapsed": false
   },
   "outputs": [],
   "source": [
    "# We want LA data so select the ID of the 'National - Regional - LA - OAs' field\n",
    "geog_field_id = 'str:field:AA_Entitled:V_F_AA_Entitled:COA_CODE'"
   ]
  },
  {
   "cell_type": "code",
   "execution_count": 46,
   "metadata": {
    "collapsed": false
   },
   "outputs": [
    {
     "data": {
      "text/html": [
       "<div>\n",
       "<table border=\"1\" class=\"dataframe\">\n",
       "  <thead>\n",
       "    <tr style=\"text-align: right;\">\n",
       "      <th></th>\n",
       "      <th>id</th>\n",
       "      <th>label</th>\n",
       "      <th>location</th>\n",
       "      <th>parent_id</th>\n",
       "      <th>type</th>\n",
       "    </tr>\n",
       "  </thead>\n",
       "  <tbody>\n",
       "    <tr>\n",
       "      <th>1069</th>\n",
       "      <td>str:valueset:AA_Entitled:V_F_AA_Entitled:COA_C...</td>\n",
       "      <td>Census Output Area</td>\n",
       "      <td>http://stat-xplore.dwp.gov.uk/webapi/rest/v1/s...</td>\n",
       "      <td>str:field:AA_Entitled:V_F_AA_Entitled:COA_CODE</td>\n",
       "      <td>VALUESET</td>\n",
       "    </tr>\n",
       "    <tr>\n",
       "      <th>1070</th>\n",
       "      <td>str:valueset:AA_Entitled:V_F_AA_Entitled:COA_C...</td>\n",
       "      <td>Lower Layer Super Output Areas</td>\n",
       "      <td>http://stat-xplore.dwp.gov.uk/webapi/rest/v1/s...</td>\n",
       "      <td>str:field:AA_Entitled:V_F_AA_Entitled:COA_CODE</td>\n",
       "      <td>VALUESET</td>\n",
       "    </tr>\n",
       "    <tr>\n",
       "      <th>1071</th>\n",
       "      <td>str:valueset:AA_Entitled:V_F_AA_Entitled:COA_C...</td>\n",
       "      <td>Middle Layer Super Output Areas</td>\n",
       "      <td>http://stat-xplore.dwp.gov.uk/webapi/rest/v1/s...</td>\n",
       "      <td>str:field:AA_Entitled:V_F_AA_Entitled:COA_CODE</td>\n",
       "      <td>VALUESET</td>\n",
       "    </tr>\n",
       "    <tr>\n",
       "      <th>1072</th>\n",
       "      <td>str:valueset:AA_Entitled:V_F_AA_Entitled:COA_C...</td>\n",
       "      <td>Local Authority</td>\n",
       "      <td>http://stat-xplore.dwp.gov.uk/webapi/rest/v1/s...</td>\n",
       "      <td>str:field:AA_Entitled:V_F_AA_Entitled:COA_CODE</td>\n",
       "      <td>VALUESET</td>\n",
       "    </tr>\n",
       "    <tr>\n",
       "      <th>1073</th>\n",
       "      <td>str:valueset:AA_Entitled:V_F_AA_Entitled:COA_C...</td>\n",
       "      <td>Region</td>\n",
       "      <td>http://stat-xplore.dwp.gov.uk/webapi/rest/v1/s...</td>\n",
       "      <td>str:field:AA_Entitled:V_F_AA_Entitled:COA_CODE</td>\n",
       "      <td>VALUESET</td>\n",
       "    </tr>\n",
       "    <tr>\n",
       "      <th>1074</th>\n",
       "      <td>str:valueset:AA_Entitled:V_F_AA_Entitled:COA_C...</td>\n",
       "      <td>Country</td>\n",
       "      <td>http://stat-xplore.dwp.gov.uk/webapi/rest/v1/s...</td>\n",
       "      <td>str:field:AA_Entitled:V_F_AA_Entitled:COA_CODE</td>\n",
       "      <td>VALUESET</td>\n",
       "    </tr>\n",
       "    <tr>\n",
       "      <th>1075</th>\n",
       "      <td>str:valueset:AA_Entitled:V_F_AA_Entitled:COA_C...</td>\n",
       "      <td>Great Britain</td>\n",
       "      <td>http://stat-xplore.dwp.gov.uk/webapi/rest/v1/s...</td>\n",
       "      <td>str:field:AA_Entitled:V_F_AA_Entitled:COA_CODE</td>\n",
       "      <td>VALUESET</td>\n",
       "    </tr>\n",
       "  </tbody>\n",
       "</table>\n",
       "</div>"
      ],
      "text/plain": [
       "                                                     id  \\\n",
       "1069  str:valueset:AA_Entitled:V_F_AA_Entitled:COA_C...   \n",
       "1070  str:valueset:AA_Entitled:V_F_AA_Entitled:COA_C...   \n",
       "1071  str:valueset:AA_Entitled:V_F_AA_Entitled:COA_C...   \n",
       "1072  str:valueset:AA_Entitled:V_F_AA_Entitled:COA_C...   \n",
       "1073  str:valueset:AA_Entitled:V_F_AA_Entitled:COA_C...   \n",
       "1074  str:valueset:AA_Entitled:V_F_AA_Entitled:COA_C...   \n",
       "1075  str:valueset:AA_Entitled:V_F_AA_Entitled:COA_C...   \n",
       "\n",
       "                                label  \\\n",
       "1069               Census Output Area   \n",
       "1070   Lower Layer Super Output Areas   \n",
       "1071  Middle Layer Super Output Areas   \n",
       "1072                  Local Authority   \n",
       "1073                           Region   \n",
       "1074                          Country   \n",
       "1075                    Great Britain   \n",
       "\n",
       "                                               location  \\\n",
       "1069  http://stat-xplore.dwp.gov.uk/webapi/rest/v1/s...   \n",
       "1070  http://stat-xplore.dwp.gov.uk/webapi/rest/v1/s...   \n",
       "1071  http://stat-xplore.dwp.gov.uk/webapi/rest/v1/s...   \n",
       "1072  http://stat-xplore.dwp.gov.uk/webapi/rest/v1/s...   \n",
       "1073  http://stat-xplore.dwp.gov.uk/webapi/rest/v1/s...   \n",
       "1074  http://stat-xplore.dwp.gov.uk/webapi/rest/v1/s...   \n",
       "1075  http://stat-xplore.dwp.gov.uk/webapi/rest/v1/s...   \n",
       "\n",
       "                                           parent_id      type  \n",
       "1069  str:field:AA_Entitled:V_F_AA_Entitled:COA_CODE  VALUESET  \n",
       "1070  str:field:AA_Entitled:V_F_AA_Entitled:COA_CODE  VALUESET  \n",
       "1071  str:field:AA_Entitled:V_F_AA_Entitled:COA_CODE  VALUESET  \n",
       "1072  str:field:AA_Entitled:V_F_AA_Entitled:COA_CODE  VALUESET  \n",
       "1073  str:field:AA_Entitled:V_F_AA_Entitled:COA_CODE  VALUESET  \n",
       "1074  str:field:AA_Entitled:V_F_AA_Entitled:COA_CODE  VALUESET  \n",
       "1075  str:field:AA_Entitled:V_F_AA_Entitled:COA_CODE  VALUESET  "
      ]
     },
     "execution_count": 46,
     "metadata": {},
     "output_type": "execute_result"
    }
   ],
   "source": [
    "# Get the labels of the geography folder, field and level that we want data returned for\n",
    "geog_folder = 'Geography (residence-based)'\n",
    "geog_field = 'National - Regional - LA - OAs'\n",
    "\n",
    "# Use the schema to view what geography levels are available within the geography field\n",
    "df_schema.loc[ df_schema['parent_id'] == geog_field_id]"
   ]
  },
  {
   "cell_type": "code",
   "execution_count": 47,
   "metadata": {
    "collapsed": true
   },
   "outputs": [],
   "source": [
    "# Select the desired geography level. Selecting 'Local Authority' returns data for all local authorities\n",
    "geog_level = 'Local Authority'"
   ]
  },
  {
   "cell_type": "markdown",
   "metadata": {},
   "source": [
    "## With the IDs and labels retrieved from the schema, data can now be requested"
   ]
  },
  {
   "cell_type": "code",
   "execution_count": 51,
   "metadata": {
    "collapsed": false
   },
   "outputs": [],
   "source": [
    "# Get Attendance Allowance data by calling the stat_xplore_table.get_stat_xplore_measure_data() function\n",
    "# Selects the fields for which the total number across all values should be included\n",
    "aa = stat_xplore_table.get_stat_xplore_measure_data(table_headers, \n",
    "                                                    schema_headers, \n",
    "                                                    measure_id = measure_id, \n",
    "                                                    field_ids = [date_field_id,condition_field_id,geog_field_id],\n",
    "                                                    fields_include_total = condition_field_id, \n",
    "                                                    df_schema = df_schema, \n",
    "                                                    geog_folder_label = geog_folder,\n",
    "                                                    geog_field_label = geog_field,\n",
    "                                                    geog_level_label = geog_level)"
   ]
  },
  {
   "cell_type": "code",
   "execution_count": 54,
   "metadata": {
    "collapsed": false
   },
   "outputs": [],
   "source": [
    "# get_stat_xplore_measure_data() returns a dict with keys 'data' and 'annotations'\n",
    "# save both of these\n",
    "aa['data'].to_csv(output_directory + 'attendance_allowance_data.csv', index=False)\n",
    "with open(output_directory + 'aa_annotations.txt', 'w') as f:\n",
    "    for annotation in aa['annotations'].values():\n",
    "        f.write(annotation+'\\n\\n')\n"
   ]
  },
  {
   "cell_type": "code",
   "execution_count": null,
   "metadata": {
    "collapsed": true
   },
   "outputs": [],
   "source": []
  }
 ],
 "metadata": {
  "kernelspec": {
   "display_name": "Python [Root]",
   "language": "python",
   "name": "Python [Root]"
  },
  "language_info": {
   "codemirror_mode": {
    "name": "ipython",
    "version": 3
   },
   "file_extension": ".py",
   "mimetype": "text/x-python",
   "name": "python",
   "nbconvert_exporter": "python",
   "pygments_lexer": "ipython3",
   "version": "3.5.2"
  }
 },
 "nbformat": 4,
 "nbformat_minor": 0
}
